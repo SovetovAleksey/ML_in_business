{
  "nbformat": 4,
  "nbformat_minor": 0,
  "metadata": {
    "colab": {
      "provenance": [],
      "authorship_tag": "ABX9TyNcX4VDfB4COjz3Pq82ExZn",
      "include_colab_link": true
    },
    "kernelspec": {
      "name": "python3",
      "display_name": "Python 3"
    },
    "language_info": {
      "name": "python"
    }
  },
  "cells": [
    {
      "cell_type": "markdown",
      "metadata": {
        "id": "view-in-github",
        "colab_type": "text"
      },
      "source": [
        "<a href=\"https://colab.research.google.com/github/SovetovAleksey/ML_in_business/blob/course_project/test.ipynb\" target=\"_parent\"><img src=\"https://colab.research.google.com/assets/colab-badge.svg\" alt=\"Open In Colab\"/></a>"
      ]
    },
    {
      "cell_type": "code",
      "execution_count": null,
      "metadata": {
        "id": "5EoJHmmYKccF"
      },
      "outputs": [],
      "source": [
        "import pandas as pd\n",
        "from sklearn.metrics import roc_auc_score,roc_curve\n",
        "from urllib import request, parse\n",
        "import dill\n",
        "import urllib.request\n",
        "import json  "
      ]
    },
    {
      "cell_type": "code",
      "source": [
        "X_test = pd.read_csv('data_X_test.csv')"
      ],
      "metadata": {
        "id": "QanmKn7xKjOz"
      },
      "execution_count": null,
      "outputs": []
    },
    {
      "cell_type": "code",
      "source": [
        "def get_prediction(x):\n",
        "    \n",
        "    no_of_adults,\tno_of_children,\tno_of_weekend_nights,\tno_of_week_nights,\t\\\n",
        "    type_of_meal_plan,\trequired_car_parking_space,\troom_type_reserved,\t\\\n",
        "    lead_time,\tarrival_year,\tarrival_month,\tarrival_date, \\\n",
        "    market_segment_type,\trepeated_guest,\tno_of_previous_cancellations,\t\\\n",
        "    no_of_previous_bookings_not_canceled,\tavg_price_per_room,\t\\\n",
        "    no_of_special_requests = x \n",
        "    \n",
        "    body = {'Adults': no_of_adults,\n",
        "            'Children': no_of_children,\n",
        "            'Weekend_nights': no_of_weekend_nights,\n",
        "            'Week_nights': no_of_week_nights,\n",
        "            'Meal_plan': type_of_meal_plan,\n",
        "            'Date': arrival_date,\n",
        "            'Market': market_segment_type,\n",
        "            'Repeated_guest': repeated_guest,\n",
        "            'Lead_time': lead_time,\n",
        "            'AVG_price_per_room': avg_price_per_room,\n",
        "            'Special_requests': no_of_special_requests}\n",
        "\n",
        "    myurl = \"http://127.0.0.1:5000/predict\"\n",
        "    req = urllib.request.Request(myurl)\n",
        "    req.add_header('Content-Type', 'application/json; charset=utf-8')\n",
        "    jsondata = json.dumps(body)\n",
        "    jsondataasbytes = jsondata.encode('utf-8')   # needs to be bytes\n",
        "    req.add_header('Content-Length', len(jsondataasbytes))\n",
        "    response = urllib.request.urlopen(req, jsondataasbytes)\n",
        "    return json.loads(response.read())['predictions']"
      ],
      "metadata": {
        "id": "OIEN60DwKzc1"
      },
      "execution_count": null,
      "outputs": []
    }
  ]
}