{
  "nbformat": 4,
  "nbformat_minor": 0,
  "metadata": {
    "colab": {
      "provenance": [],
      "authorship_tag": "ABX9TyMyE9nhrbgWt6R+7pfEi4FD",
      "include_colab_link": true
    },
    "kernelspec": {
      "name": "python3",
      "display_name": "Python 3"
    },
    "language_info": {
      "name": "python"
    }
  },
  "cells": [
    {
      "cell_type": "markdown",
      "metadata": {
        "id": "view-in-github",
        "colab_type": "text"
      },
      "source": [
        "<a href=\"https://colab.research.google.com/github/SovetovAleksey/ML_in_business/blob/course_project/server.ipynb\" target=\"_parent\"><img src=\"https://colab.research.google.com/assets/colab-badge.svg\" alt=\"Open In Colab\"/></a>"
      ]
    },
    {
      "cell_type": "code",
      "source": [
        "!pip install catboost"
      ],
      "metadata": {
        "colab": {
          "base_uri": "https://localhost:8080/"
        },
        "id": "QGkkPTC-pNcj",
        "outputId": "75715554-7470-4b29-bb58-060b29515840"
      },
      "execution_count": 7,
      "outputs": [
        {
          "output_type": "stream",
          "name": "stdout",
          "text": [
            "Looking in indexes: https://pypi.org/simple, https://us-python.pkg.dev/colab-wheels/public/simple/\n",
            "Collecting catboost\n",
            "  Downloading catboost-1.1.1-cp38-none-manylinux1_x86_64.whl (76.6 MB)\n",
            "\u001b[2K     \u001b[90m━━━━━━━━━━━━━━━━━━━━━━━━━━━━━━━━━━━━━━━━\u001b[0m \u001b[32m76.6/76.6 MB\u001b[0m \u001b[31m11.0 MB/s\u001b[0m eta \u001b[36m0:00:00\u001b[0m\n",
            "\u001b[?25hRequirement already satisfied: numpy>=1.16.0 in /usr/local/lib/python3.8/dist-packages (from catboost) (1.21.6)\n",
            "Requirement already satisfied: six in /usr/local/lib/python3.8/dist-packages (from catboost) (1.15.0)\n",
            "Requirement already satisfied: graphviz in /usr/local/lib/python3.8/dist-packages (from catboost) (0.10.1)\n",
            "Requirement already satisfied: matplotlib in /usr/local/lib/python3.8/dist-packages (from catboost) (3.2.2)\n",
            "Requirement already satisfied: pandas>=0.24.0 in /usr/local/lib/python3.8/dist-packages (from catboost) (1.3.5)\n",
            "Requirement already satisfied: plotly in /usr/local/lib/python3.8/dist-packages (from catboost) (5.5.0)\n",
            "Requirement already satisfied: scipy in /usr/local/lib/python3.8/dist-packages (from catboost) (1.7.3)\n",
            "Requirement already satisfied: pytz>=2017.3 in /usr/local/lib/python3.8/dist-packages (from pandas>=0.24.0->catboost) (2022.7.1)\n",
            "Requirement already satisfied: python-dateutil>=2.7.3 in /usr/local/lib/python3.8/dist-packages (from pandas>=0.24.0->catboost) (2.8.2)\n",
            "Requirement already satisfied: cycler>=0.10 in /usr/local/lib/python3.8/dist-packages (from matplotlib->catboost) (0.11.0)\n",
            "Requirement already satisfied: pyparsing!=2.0.4,!=2.1.2,!=2.1.6,>=2.0.1 in /usr/local/lib/python3.8/dist-packages (from matplotlib->catboost) (3.0.9)\n",
            "Requirement already satisfied: kiwisolver>=1.0.1 in /usr/local/lib/python3.8/dist-packages (from matplotlib->catboost) (1.4.4)\n",
            "Requirement already satisfied: tenacity>=6.2.0 in /usr/local/lib/python3.8/dist-packages (from plotly->catboost) (8.2.0)\n",
            "Installing collected packages: catboost\n",
            "Successfully installed catboost-1.1.1\n"
          ]
        }
      ]
    },
    {
      "cell_type": "code",
      "execution_count": 8,
      "metadata": {
        "id": "oNrj66lxZq1j",
        "colab": {
          "base_uri": "https://localhost:8080/"
        },
        "outputId": "8e46e079-2e4b-4bfd-d5c4-ba7e48322c4d"
      },
      "outputs": [
        {
          "output_type": "stream",
          "name": "stdout",
          "text": [
            "* Loading the model and Flask starting server...please wait until server has fully started\n",
            " * Serving Flask app \"__main__\" (lazy loading)\n",
            " * Environment: production\n",
            "\u001b[31m   WARNING: This is a development server. Do not use it in a production deployment.\u001b[0m\n",
            "\u001b[2m   Use a production WSGI server instead.\u001b[0m\n",
            " * Debug mode: off\n"
          ]
        },
        {
          "output_type": "stream",
          "name": "stderr",
          "text": [
            "INFO:werkzeug: * Running on http://127.0.0.1:5000/ (Press CTRL+C to quit)\n"
          ]
        }
      ],
      "source": [
        "import dill\n",
        "import numpy as np\n",
        "import pandas as pd\n",
        "import flask\n",
        "\n",
        "app = flask.Flask(__name__)\n",
        "model = None\n",
        "\n",
        "\n",
        "def load_model(model_path):\n",
        "\tglobal model\n",
        "\twith open('models_catboost_class_pipeline.dill', 'rb') as f:\n",
        "\t\tmodel = dill.load(f)\n",
        "\n",
        "\n",
        "@app.route(\"/\", methods=[\"GET\"])\n",
        "def general():\n",
        "\treturn \"Welcome to fraudelent prediction process\"\n",
        "\n",
        "\n",
        "@app.route(\"/predict\", methods=[\"POST\"])\n",
        "def predict():\n",
        "\tdata = {\"success\": False}\n",
        "\n",
        "\tif flask.request.method == \"POST\":\n",
        "\t\tdependents = np.nan\n",
        "\t\tproperty_area = np.nan\n",
        "\t\tapplicant_income = np.nan\n",
        "\t\tcoapplicant_income = np.nan\n",
        "\t\tloan_amount = np.nan\n",
        "\t\tloan_amount_term = np.nan\n",
        "\t\tgender = np.nan\n",
        "\t\tmarried = np.nan\n",
        "\t\teducation = np.nan\n",
        "\t\tself_employed = np.nan\n",
        "\t\tcredit_history = np.nan\n",
        "\n",
        "\t\trequest_json = flask.request.get_json()\n",
        "\t\tif request_json['no_of_adults'] != '':\n",
        "\t\t\tno_of_adults = request_json['no_of_adults']\n",
        "\t\tif request_json['no_of_children'] != '':\n",
        "\t\t\tno_of_children = request_json['no_of_children']\n",
        "\t\tif request_json['no_of_weekend_nights'] != '':\n",
        "\t\t\tno_of_weekend_nights = request_json['no_of_weekend_nights']\n",
        "\t\tif request_json['no_of_week_nights'] != '':\n",
        "\t\t\tno_of_week_nights = request_json['no_of_week_nights']\n",
        "\t\tif request_json['type_of_meal_plan'] != '':\n",
        "\t\t\ttype_of_meal_plan = request_json['type_of_meal_plan']\n",
        "\t\tif request_json['required_car_parking_space'] != '':\n",
        "\t\t\trequired_car_parking_space = request_json['required_car_parking_space']\n",
        "\t\tif request_json['room_type_reserved'] != '':\n",
        "\t\t\troom_type_reserved = request_json['room_type_reserved']\n",
        "\t\tif request_json['lead_time'] != '':\n",
        "\t\t\tlead_time = request_json['lead_time']\n",
        "\t\tif request_json['arrival_year'] != '':\n",
        "\t\t\tarrival_year = request_json['arrival_year']\n",
        "\t\tif request_json['arrival_month'] != '':\n",
        "\t\t\tarrival_month = request_json['arrival_month']\n",
        "\t\tif request_json['arrival_date'] != '':\n",
        "\t\t\tarrival_date = request_json['arrival_date']\n",
        "\t\tif request_json['market_segment_type'] != '':\n",
        "\t\t\tmarket_segment_type = request_json['market_segment_type']\n",
        "\t\tif request_json['repeated_guest'] != '':\n",
        "\t\t\trepeated_guest = request_json['repeated_guest']\n",
        "\t\tif request_json['no_of_previous_cancellations'] != '':\n",
        "\t\t\tno_of_previous_cancellations = request_json['no_of_previous_cancellations']\n",
        "\t\tif request_json['no_of_previous_bookings_not_canceled'] != '':\n",
        "\t\t\tno_of_previous_bookings_not_canceled = request_json['no_of_previous_bookings_not_canceled']\n",
        "\t\tif request_json['avg_price_per_room'] != '':\n",
        "\t\t\tavg_price_per_room = request_json['avg_price_per_room']\n",
        "\t\tif request_json['no_of_special_requests'] != '':\n",
        "\t\t\tno_of_special_requests = request_json['no_of_special_requests']\n",
        "\n",
        "\t\tpreds = model.predict_proba(pd.DataFrame({'Adults': no_of_adults,\n",
        "            'Children': no_of_children,\n",
        "            'Weekend_nights': no_of_weekend_nights,\n",
        "            'Week_nights': no_of_week_nights,\n",
        "            'Meal_plan': type_of_meal_plan,\n",
        "            'Date': arrival_date,\n",
        "            'Market': market_segment_type,\n",
        "            'Repeated_guest': repeated_guest,\n",
        "            'Lead_time': lead_time,\n",
        "            'AVG_price_per_room': avg_price_per_room,\n",
        "            'Special_requests': no_of_special_requests}))\n",
        "\n",
        "\t\tdata[\"predictions\"] = preds[:, 1][0]\n",
        "\t\t# indicate that the request was a success\n",
        "\t\tdata[\"success\"] = True\n",
        "\n",
        "\t# return the data dictionary as a JSON response\n",
        "\treturn flask.jsonify(data)\n",
        "\n",
        "\n",
        "if __name__ == \"__main__\":\n",
        "\tprint((\"* Loading the model and Flask starting server...\"\n",
        "\t\t\"please wait until server has fully started\"))\n",
        "\tmodelpath = \"models\\catboost_class_pipeline.dill\"\n",
        "\tload_model(modelpath)\n",
        "\tapp.run()"
      ]
    }
  ]
}